{
 "cells": [
  {
   "cell_type": "markdown",
   "id": "d116bf42-809a-482d-abce-0220d37fd9f2",
   "metadata": {},
   "source": [
    "# Data Science Tools and Ecosystem #\n"
   ]
  },
  {
   "cell_type": "markdown",
   "id": "c510bb8d-0dec-4163-822e-c72ed94833f7",
   "metadata": {},
   "source": [
    "**In this notebook, Data Science Tools and Ecosystem are summarized.**\n"
   ]
  },
  {
   "cell_type": "markdown",
   "id": "ee771a61-de46-497d-926b-2ef7d9692e33",
   "metadata": {},
   "source": [
    "Some of the popular languages that Data Scientists use are:\r\n",
    "\r\n",
    "1. Python\r\n",
    "2. R\r\n",
    "3. SQL\r\n",
    "4. Julia\r\n",
    "5. Scala\r\n"
   ]
  },
  {
   "cell_type": "markdown",
   "id": "8c0ba77d-c908-42cf-9642-6ccddcf8a0c7",
   "metadata": {},
   "source": [
    "Some of the commonly used libraries used by Data Scientists include:\r\n",
    "\r\n",
    "1. **Python**  \r\n",
    "   Python is one of the most widely used programming languages in data science due to its simplicity and vast ecosystem of libraries such as NumPy, Pandas, and Scikit-learn.\r\n",
    "\r\n",
    "2. **R**  \r\n",
    "   R is specifically designed for statistical computing and has numerous packages such as ggplot2, dplyr, and caret.\r\n",
    "\r\n",
    "3. **SQL**  \r\n",
    "   SQL (Structured Query Language) is used for managing and querying data stored in relational databases, making it essential for data extraction and manipulation.\r\n",
    "\r\n",
    "4. **Julia**  \r\n",
    "   Julia is gaining popularity for high-performance numerical and scientific computing, especially in large datasets and machine learning applications.\r\n",
    "\n"
   ]
  },
  {
   "cell_type": "markdown",
   "id": "32c1b7ba-56a0-46db-bd7b-d94069c569db",
   "metadata": {},
   "source": [
    "| Data Science Tools           |\r\n",
    "|------------------------------|\r\n",
    "| Jupyter Notebook              |\r\n",
    "| RStudio                       |\r\n",
    "| Apache Zeppelin               |\r\n"
   ]
  },
  {
   "cell_type": "markdown",
   "id": "4252f006-3214-4b37-a3c2-4bad5a976a8b",
   "metadata": {},
   "source": [
    "### Below are a few examples of evaluating arithmetic expressions in Python. ###"
   ]
  },
  {
   "cell_type": "code",
   "execution_count": 2,
   "id": "f1f3a116-b76d-4964-bc3f-22bb64dc6d10",
   "metadata": {},
   "outputs": [
    {
     "data": {
      "text/plain": [
       "17"
      ]
     },
     "execution_count": 2,
     "metadata": {},
     "output_type": "execute_result"
    }
   ],
   "source": [
    "(3*4)+5  #This a simple arithmetic expression to mutiply then add integers."
   ]
  },
  {
   "cell_type": "code",
   "execution_count": 6,
   "id": "2c345e3e-01b5-4df6-bddd-8529d2e8dcf6",
   "metadata": {},
   "outputs": [
    {
     "data": {
      "text/plain": [
       "3.3333333333333335"
      ]
     },
     "execution_count": 6,
     "metadata": {},
     "output_type": "execute_result"
    }
   ],
   "source": [
    "minutes = 200\n",
    "hours = minutes / 60      #This will convert 200 minutes to hours by diving by 60.\n",
    "hours\n"
   ]
  },
  {
   "cell_type": "markdown",
   "id": "abe5694d-ad97-467b-b6b7-1b4be4a77ea8",
   "metadata": {},
   "source": [
    "**Objectives:**\r\n",
    "\r\n",
    "- List popular languages for Data Science\r\n",
    "- Introduce commonly used libraries in Data Science\r\n",
    "- Create and format tables using markdown\r\n",
    "- Convert units such as minutes to hours using Python code\r\n",
    "- Understand development environment tools for Data Science\r\n"
   ]
  },
  {
   "cell_type": "markdown",
   "id": "3a6816c2-86a1-41c8-8d32-94fcda68ca93",
   "metadata": {},
   "source": [
    "## Author ## \n",
    "Nilesh Upase."
   ]
  }
 ],
 "metadata": {
  "kernelspec": {
   "display_name": "Python 3 (ipykernel)",
   "language": "python",
   "name": "python3"
  },
  "language_info": {
   "codemirror_mode": {
    "name": "ipython",
    "version": 3
   },
   "file_extension": ".py",
   "mimetype": "text/x-python",
   "name": "python",
   "nbconvert_exporter": "python",
   "pygments_lexer": "ipython3",
   "version": "3.12.4"
  }
 },
 "nbformat": 4,
 "nbformat_minor": 5
}
